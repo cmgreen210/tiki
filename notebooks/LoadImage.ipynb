{
 "cells": [
  {
   "cell_type": "code",
   "execution_count": 1,
   "metadata": {
    "collapsed": false
   },
   "outputs": [],
   "source": [
    "require 'image'\n",
    "matio = require 'matio'\n",
    "matio.use_lua_strings = true"
   ]
  },
  {
   "cell_type": "code",
   "execution_count": 6,
   "metadata": {
    "collapsed": false,
    "scrolled": false
   },
   "outputs": [],
   "source": [
    "homeDir = \"/home/chris/tiki/face_ae/\"\n",
    "faceData = matio.load(homeDir .. \"data/faceData/FacesInTheWild.mat\")"
   ]
  },
  {
   "cell_type": "code",
   "execution_count": 7,
   "metadata": {
    "collapsed": true
   },
   "outputs": [],
   "source": [
    "function loadFactData (idx)\n",
    "    p = homeDir .. \"data/faceData/\" .. faceData.metaData[idx][\"fileName\"]\n",
    "    return image.load(p)\n",
    "end"
   ]
  },
  {
   "cell_type": "code",
   "execution_count": 8,
   "metadata": {
    "collapsed": false
   },
   "outputs": [],
   "source": [
    "for n = 1,(#faceData.metaData - 1) do\n",
    "    img = loadFactData(n)\n",
    "    img:resize(3, 86, 86)\n",
    "    l = #img[1][1] \n",
    "    if l[1] ~= 86 then\n",
    "        print(#img[1][1])\n",
    "    end\n",
    "end"
   ]
  }
 ],
 "metadata": {
  "kernelspec": {
   "display_name": "iTorch",
   "language": "lua",
   "name": "itorch"
  },
  "language_info": {
   "name": "lua",
   "version": "5.1"
  }
 },
 "nbformat": 4,
 "nbformat_minor": 0
}
