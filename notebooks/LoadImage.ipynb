{
 "cells": [
  {
   "cell_type": "code",
   "execution_count": 1,
   "metadata": {
    "collapsed": false
   },
   "outputs": [],
   "source": [
    "require 'image'\n",
    "matio = require 'matio'\n",
    "matio.use_lua_strings = true"
   ]
  },
  {
   "cell_type": "code",
   "execution_count": 2,
   "metadata": {
    "collapsed": false,
    "scrolled": false
   },
   "outputs": [],
   "source": [
    "homeDir = os.getenv(\"HOME\") .. \"/tiki/face_ae\"\n",
    "faceData = matio.load(homeDir .. \"/data/faceData/FacesInTheWild.mat\")"
   ]
  },
  {
   "cell_type": "code",
   "execution_count": 3,
   "metadata": {
    "collapsed": true
   },
   "outputs": [],
   "source": [
    "function loadFactData (idx)\n",
    "    p = homeDir .. \"/data/faceData/\" .. faceData.metaData[idx][\"fileName\"]\n",
    "    return image.load(p)\n",
    "end"
   ]
  },
  {
   "cell_type": "code",
   "execution_count": 12,
   "metadata": {
    "collapsed": false
   },
   "outputs": [],
   "source": [
    "num = #faceData.metaData\n",
    "tensor = torch.Tensor(num, 3, 86, 86):type(\"torch.FloatTensor\")\n",
    "for n = 1,(num - 1) do\n",
    "    img = loadFactData(n):type(\"torch.FloatTensor\")\n",
    "    img:resize(3, 86, 86)\n",
    "    tensor[n] = img\n",
    "end"
   ]
  },
  {
   "cell_type": "code",
   "execution_count": 27,
   "metadata": {
    "collapsed": false
   },
   "outputs": [
    {
     "data": {
      "text/plain": [
       "false\t\n"
      ]
     },
     "execution_count": 27,
     "metadata": {},
     "output_type": "execute_result"
    }
   ],
   "source": [
    "not paths.filep(homeDir .. \"/data/faceData/FacesInTheWild.mat\")"
   ]
  },
  {
   "cell_type": "code",
   "execution_count": null,
   "metadata": {
    "collapsed": true
   },
   "outputs": [],
   "source": []
  }
 ],
 "metadata": {
  "kernelspec": {
   "display_name": "iTorch",
   "language": "lua",
   "name": "itorch"
  },
  "language_info": {
   "name": "lua",
   "version": "20100"
  }
 },
 "nbformat": 4,
 "nbformat_minor": 0
}
