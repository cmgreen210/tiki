{
 "cells": [
  {
   "cell_type": "code",
   "execution_count": 12,
   "metadata": {
    "collapsed": false
   },
   "outputs": [],
   "source": [
    "require 'image'\n",
    "matio = require 'matio'\n",
    "matio.use_lua_strings = true"
   ]
  },
  {
   "cell_type": "code",
   "execution_count": 13,
   "metadata": {
    "collapsed": false,
    "scrolled": false
   },
   "outputs": [],
   "source": [
    "faceData = matio.load(\"/home/chris/tiki/data/faceData/FacesInTheWild.mat\")"
   ]
  },
  {
   "cell_type": "code",
   "execution_count": 17,
   "metadata": {
    "collapsed": false
   },
   "outputs": [
    {
     "data": {
      "text/plain": [
       "2002/09/28/img_828.0.ppm\t\n"
      ]
     },
     "execution_count": 17,
     "metadata": {},
     "output_type": "execute_result"
    }
   ],
   "source": [
    "faceData.metaData[1][\"fileName\"]"
   ]
  },
  {
   "cell_type": "code",
   "execution_count": 40,
   "metadata": {
    "collapsed": true
   },
   "outputs": [],
   "source": [
    "function loadFactData (idx)\n",
    "    p = \"/home/chris/tiki/data/faceData/\" .. faceData.metaData[idx][\"fileName\"]\n",
    "    return image.load(p)\n",
    "end"
   ]
  },
  {
   "cell_type": "code",
   "execution_count": 105,
   "metadata": {
    "collapsed": false
   },
   "outputs": [],
   "source": [
    "for n = 1,(#faceData.metaData - 1) do\n",
    "    img = loadFactData(n)\n",
    "    img:resize(3, 86, 86)\n",
    "    l = #img[1][1] \n",
    "    if l[1] ~= 86 then\n",
    "        print(#img[1][1])\n",
    "    end\n",
    "end"
   ]
  }
 ],
 "metadata": {
  "kernelspec": {
   "display_name": "iTorch",
   "language": "lua",
   "name": "itorch"
  },
  "language_info": {
   "name": "lua",
   "version": "5.1"
  }
 },
 "nbformat": 4,
 "nbformat_minor": 0
}
